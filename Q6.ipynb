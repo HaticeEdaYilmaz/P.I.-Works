{
 "cells": [
  {
   "cell_type": "markdown",
   "id": "73aadd3e",
   "metadata": {},
   "source": [
    "First code cell gives the imputed version of the dataset from the previous question."
   ]
  },
  {
   "cell_type": "code",
   "execution_count": 1,
   "id": "bf1a5f6e",
   "metadata": {},
   "outputs": [],
   "source": [
    "import pandas as pd\n",
    "import numpy as np\n",
    "from sklearn.impute import SimpleImputer \n",
    "df = pd.read_csv(\"country_vaccination_stats.csv\")\n",
    "countries = df[\"country\"].unique()\n",
    "arrays = []\n",
    "for country in countries:\n",
    "    sub_df = df[df[\"country\"] == country]\n",
    "    min_value = sub_df[\"daily_vaccinations\"].min()\n",
    "    imp_min = SimpleImputer(strategy = \"constant\", fill_value = min_value)\n",
    "    sub_df = imp_min.fit_transform(sub_df)\n",
    "    arrays.append(sub_df)\n",
    "\n",
    "large_array = np.vstack(arrays)\n",
    "imputed_df = pd.DataFrame(large_array,columns=[\"country\", \"date\",\"daily_vaccinations\",\"vaccines\"])   \n",
    "imputed_df.loc[750, \"daily_vaccinations\"] = 0"
   ]
  },
  {
   "cell_type": "markdown",
   "id": "d34176cf",
   "metadata": {},
   "source": [
    "First, I created an empty list called \"all_medians\". Inside the for loop, I created a sub_df and calculated the median of daily_vaccinations column for each country. I stored median values along with the name of the countries in the list \"all_medians\". Then, I sorted the medians and got the top 3 countries with the highest daily vaccinaton medians."
   ]
  },
  {
   "cell_type": "code",
   "execution_count": 2,
   "id": "55459abf",
   "metadata": {},
   "outputs": [
    {
     "data": {
      "text/plain": [
       "[('United States', 378253.0), ('China', 276786.0), ('India', 173922.0)]"
      ]
     },
     "execution_count": 2,
     "metadata": {},
     "output_type": "execute_result"
    }
   ],
   "source": [
    "all_medians = []\n",
    "for country in countries:\n",
    "    sub_df = imputed_df[imputed_df[\"country\"] == country]\n",
    "    median_value = sub_df[\"daily_vaccinations\"].median()\n",
    "    all_medians.append((country, median_value))\n",
    "\n",
    "sorted_medians = sorted(all_medians, key=lambda x: x[1], reverse=True)\n",
    "\n",
    "result = sorted_medians[:3]\n",
    "result"
   ]
  }
 ],
 "metadata": {
  "kernelspec": {
   "display_name": "Python 3 (ipykernel)",
   "language": "python",
   "name": "python3"
  },
  "language_info": {
   "codemirror_mode": {
    "name": "ipython",
    "version": 3
   },
   "file_extension": ".py",
   "mimetype": "text/x-python",
   "name": "python",
   "nbconvert_exporter": "python",
   "pygments_lexer": "ipython3",
   "version": "3.11.5"
  }
 },
 "nbformat": 4,
 "nbformat_minor": 5
}
